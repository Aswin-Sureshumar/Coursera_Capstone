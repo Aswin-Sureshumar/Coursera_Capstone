{
 "cells": [
  {
   "cell_type": "markdown",
   "metadata": {},
   "source": [
    "## Introduction/Business Problem"
   ]
  },
  {
   "cell_type": "markdown",
   "metadata": {},
   "source": [
    "Toronto is the biggest contributer to the finacial growth of canada and an essential economic hub of the world. It welcomes immigrants from all over the world and hence has lot of diversty. Toronto has a total area of 630.2 square kms having a populaton of 2,731,571 as of 2016. Having such a large area and population it is difficult for a business man to decide the ideal location for opening a new resturant and have success. This project will aid a person trying to open a Italian restaurant at the ideal location in Toronto.\n",
    "\n",
    "Since Toronto has such a vast location and population, it is difficult to be successful in a business with huge competition. Hence we will target locations that contain less number of Italian restaurants as well as near to the city centre.\n",
    "\n",
    "At the end this project, an ideal location for opening a Italian restuarant in Toronto will be suggested."
   ]
  },
  {
   "cell_type": "markdown",
   "metadata": {},
   "source": [
    "## Data"
   ]
  },
  {
   "cell_type": "markdown",
   "metadata": {},
   "source": [
    "Based on the business problem the factors influencing the discussion are:\n",
    "- Distance from the city centre\n",
    "- Frequency of Italian restuarants in the locality"
   ]
  },
  {
   "cell_type": "markdown",
   "metadata": {},
   "source": [
    "For the current business problem the data sources required are as follows:\n",
    "- Four Square API for Restaurant data\n",
    "- Candidate Areas in Toronto - [link](http://https://en.wikipedia.org/wiki/List_of_postal_codes_of_Canada:_M)"
   ]
  },
  {
   "cell_type": "markdown",
   "metadata": {},
   "source": [
    "## Methodology"
   ]
  },
  {
   "cell_type": "markdown",
   "metadata": {},
   "source": [
    "The Main Aim of this project is to find the best neighbourhoods to open a new Italian restaurant in toronto to have a successful business. So the Above mentioned data are used.To achieve the goal the following steps have been carried out."
   ]
  },
  {
   "cell_type": "markdown",
   "metadata": {},
   "source": [
    "### Steps:"
   ]
  },
  {
   "cell_type": "markdown",
   "metadata": {},
   "source": [
    "1. __Data cleaning__:\n",
    "            The data required are loaded from the sources mentioned and redudant data are cleaned. In this case there were alot of unassigned neighbourhoods.\n",
    "2. __Data exploration__:\n",
    "            After getting location data and combining the data from the two sources, the Foursquare API is used to get the data of restaurants in Toronto.\n",
    "3. __Machine Learning__:\n",
    "            K-means clustering algorithm is used to group the different neighbourhoods into clusters based on similarity. The best number of clusters was found to be 4 by using elbow method, which is a frequently used method to determine the ideal number of clusters."
   ]
  },
  {
   "cell_type": "markdown",
   "metadata": {},
   "source": [
    "## Results and Discussion"
   ]
  },
  {
   "cell_type": "markdown",
   "metadata": {},
   "source": [
    "Based on our initial analysis there are around 74 neighbourhoods in Toronto. Certain neighbourhoods contain more number of Italian Restaurants than other neighbourhoods as seen from Foursquare data. After clustering we can see that clusters 2 and 4 contain the most number of Italian restaurants even though they have low number of neighbourhoods. Clusters 1 and 3 seem to be ideal since they contain least number of Itailan restaurants while having lot of neighbourhoods. Neighbourhoods like Agincourt, Woodbine Heights, York Mills West present in cluster 1 are ideal places to start a new Italian restaurants while neighbourhoods like Brockton, Parkdale Village, Exhibition Place, University of Toronto and Harbord can also be taken into consideration."
   ]
  },
  {
   "cell_type": "markdown",
   "metadata": {},
   "source": [
    "## Conclusion"
   ]
  },
  {
   "cell_type": "markdown",
   "metadata": {},
   "source": [
    "The main aim of the project has been met and will prove as guide for people looking to start new Italian retaurant in Toronto. By utilising data from postal code data and foursquare, we were able to identify possible locations through k-means clustering.\n",
    "Final decision can be selected by the stakeholders based on other factors like real estate availability and price."
   ]
  }
 ],
 "metadata": {
  "kernelspec": {
   "display_name": "Python",
   "language": "python",
   "name": "conda-env-python-py"
  },
  "language_info": {
   "codemirror_mode": {
    "name": "ipython",
    "version": 3
   },
   "file_extension": ".py",
   "mimetype": "text/x-python",
   "name": "python",
   "nbconvert_exporter": "python",
   "pygments_lexer": "ipython3",
   "version": "3.6.12"
  }
 },
 "nbformat": 4,
 "nbformat_minor": 4
}
