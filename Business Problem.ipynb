{
 "cells": [
  {
   "cell_type": "markdown",
   "metadata": {},
   "source": [
    "## Introduction/Business Problem"
   ]
  },
  {
   "cell_type": "markdown",
   "metadata": {},
   "source": [
    "Toronto is the biggest contributer to the finacial growth of canada and an essential economic hub of the world. It welcomes immigrants from all over the world and hence has lot of diversty. Toronto has a total area of 630.2 square kms having a populaton of 2,731,571 as of 2016. Having such a large area and population it is difficult for a business man to decide the ideal location for opening a new resturant and have success. This project will aid a person trying to open a Italian restaurant at the ideal location in Toronto.\n",
    "\n",
    "Since Toronto has such a vast location and population, it is difficult to be successful in a business with huge competition. Hence we will target locations that contain less number of Italian restaurants as well as near to the city centre.\n",
    "\n",
    "At the end this project, an ideal location for opening a Italian restuarant in Toronto will be suggested."
   ]
  }
 ],
 "metadata": {
  "kernelspec": {
   "display_name": "Python",
   "language": "python",
   "name": "conda-env-python-py"
  },
  "language_info": {
   "codemirror_mode": {
    "name": "ipython",
    "version": 3
   },
   "file_extension": ".py",
   "mimetype": "text/x-python",
   "name": "python",
   "nbconvert_exporter": "python",
   "pygments_lexer": "ipython3",
   "version": "3.6.12"
  }
 },
 "nbformat": 4,
 "nbformat_minor": 4
}
